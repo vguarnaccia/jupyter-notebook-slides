{
 "cells": [
  {
   "cell_type": "markdown",
   "metadata": {
    "slideshow": {
     "slide_type": "slide"
    }
   },
   "source": [
    "# Privacy"
   ]
  },
  {
   "cell_type": "markdown",
   "metadata": {
    "slideshow": {
     "slide_type": "fragment"
    }
   },
   "source": [
    "## Why Should I care?"
   ]
  },
  {
   "cell_type": "markdown",
   "metadata": {
    "slideshow": {
     "slide_type": "fragment"
    }
   },
   "source": [
    "* In the US, you do not own your own person information.\n",
    "* Companies take track you without much consent."
   ]
  },
  {
   "cell_type": "markdown",
   "metadata": {
    "slideshow": {
     "slide_type": "fragment"
    }
   },
   "source": [
    "* Companies can profit by selling your data, or by subjecting you to dynamic pricing.\n",
    "* Companies routinely have security breaks and your private information, including name, address, phone numbers, SSN, and browser history, can be leaked."
   ]
  },
  {
   "cell_type": "markdown",
   "metadata": {
    "slideshow": {
     "slide_type": "slide"
    }
   },
   "source": [
    "# Dynamic Princing\n",
    "[Airlines increase flight prices hundreds of dollars when you look for flights](https://www.theguardian.com/commentisfree/2016/dec/06/cookie-monsters-why-your-browsing-history-could-mean-rip-off-prices)"
   ]
  },
  {
   "cell_type": "markdown",
   "metadata": {
    "slideshow": {
     "slide_type": "fragment"
    }
   },
   "source": [
    "![Airline price increases $144](https://pbs.twimg.com/media/Cy2tmNqXgAAh-09.jpg:large \"Outbound Flights\")"
   ]
  },
  {
   "cell_type": "markdown",
   "metadata": {
    "slideshow": {
     "slide_type": "slide"
    }
   },
   "source": [
    "## What is PII?\n",
    "\n",
    "Personally Identifiable Information (PII) is defined by [NIST](http://nvlpubs.nist.gov/nistpubs/Legacy/SP/nistspecialpublication800-122.pdf) as \n",
    "> (1) any information that can be used to distinguish or trace an individual's identity, such as name, social security number, date and place of birth, mother's maiden name, or biometric records\n",
    "\n",
    "There are many other examples of PII but those are the most commonly stolen."
   ]
  },
  {
   "cell_type": "markdown",
   "metadata": {
    "slideshow": {
     "slide_type": "slide"
    }
   },
   "source": [
    "# Breaches\n",
    "* On September 7th, Equifax acknowledged that 143 million people may have had their Personally Identifiable Information leaked."
   ]
  },
  {
   "cell_type": "markdown",
   "metadata": {
    "slideshow": {
     "slide_type": "fragment"
    }
   },
   "source": [
    "* Yahoo had two separate hacks, one in 2013, and another in 2014, in which 1 billion and 500 millions users were exposed."
   ]
  },
  {
   "cell_type": "markdown",
   "metadata": {
    "slideshow": {
     "slide_type": "fragment"
    }
   },
   "source": [
    "* Equifax will likely not be fined for obvious security flaws.\n",
    "\n",
    "[Source](https://arstechnica.com/information-technology/2017/09/why-the-equifax-breach-is-very-possibly-the-worst-leak-of-personal-info-ever/)"
   ]
  },
  {
   "cell_type": "markdown",
   "metadata": {
    "slideshow": {
     "slide_type": "slide"
    }
   },
   "source": [
    "## Security Systems Fail\n",
    "\n",
    "* The number of breaches is steady increasing."
   ]
  },
  {
   "cell_type": "markdown",
   "metadata": {
    "slideshow": {
     "slide_type": "fragment"
    }
   },
   "source": [
    "* Some other [big names](identityforce.com/blog/2016-data-breaches) have been hacked in 2016 as well:\n",
    "    - U.S. Department of Justice\n",
    "    - IRS\n",
    "    - UC Berkeley\n",
    "    - Premeir Healthcare\n",
    "    - Version\n",
    "    - Wendy's\n",
    "    - LinkedIn\n",
    "    - Dropbox\n",
    "    - Cisco\n",
    "    - Yahoo"
   ]
  },
  {
   "cell_type": "markdown",
   "metadata": {
    "slideshow": {
     "slide_type": "slide"
    }
   },
   "source": [
    "## The State of Things\n",
    "\n",
    "* Good security protocols exist but are not followed, even by large corporation, and the national government.\n",
    "* The most common operating system, Windows, is extremely vulnerable as we've seen in the May [WannaCry](https://en.wikipedia.org/wiki/WannaCry_ransomware_attack) Ransomeware atttack."
   ]
  },
  {
   "cell_type": "markdown",
   "metadata": {
    "slideshow": {
     "slide_type": "subslide"
    }
   },
   "source": [
    "Two factor authentication, while not sexy enough to make it into the news, is incredibly powerful.\n",
    "> Hackers need something you know, like a password, **and** something you have, like your phone."
   ]
  },
  {
   "cell_type": "markdown",
   "metadata": {
    "slideshow": {
     "slide_type": "subslide"
    }
   },
   "source": [
    "Put a lock on your phone! Consider disabling TouchID."
   ]
  },
  {
   "cell_type": "markdown",
   "metadata": {
    "slideshow": {
     "slide_type": "subslide"
    }
   },
   "source": [
    "Long passphrases are more secure than short ones with mix case and special characters."
   ]
  },
  {
   "cell_type": "markdown",
   "metadata": {
    "slideshow": {
     "slide_type": "subslide"
    }
   },
   "source": [
    "![xkcd password strength](https://imgs.xkcd.com/comics/password_strength.png \"To anyone who understands information theory and security and is in an infuriating argument with someone who does not (possibly involving mixed case), I sincerely apologize.\")"
   ]
  },
  {
   "cell_type": "markdown",
   "metadata": {
    "slideshow": {
     "slide_type": "slide"
    }
   },
   "source": [
    "## Surface Safely\n",
    "\n",
    "1. Never transfer sensitive information over `http`, only `https`.\n",
    "2. Look for the site information in your web browser:\n",
    "    1. Secure \n",
    "    ![Lock](https://storage.googleapis.com/support-kms-prod/9IKkC4co6mWlM461wyAF94BiF9nMmvcfaqUl \"Lock\")\n",
    "\n",
    "    2. Info or Not secure \n",
    "    ![Info](https://storage.googleapis.com/support-kms-prod/rzP3Kj6ct8WH1Ez2S5wV6HCXQVJZg4z0dppd \"Info\")\n",
    "    \n",
    "    3. Not secure or Dangerous \n",
    "    ![Dangerous](https://storage.googleapis.com/support-kms-prod/IFnvUSEwUHO4ppdhra3qLp1qTqnrZduuMwft  \"Dangerous\")\n",
    "\n",
    "![Example](chrome-security-icon.png)"
   ]
  },
  {
   "cell_type": "markdown",
   "metadata": {
    "slideshow": {
     "slide_type": "slide"
    }
   },
   "source": [
    "# Do Not Believe in Incognito Mode\n",
    "[clickclickclick.click](https://clickclickclick.click/)\n",
    "\n",
    "[nothingprivate.ml](http://www.nothingprivate.ml/)\n",
    "\n",
    "[Who does Google think you are?](https://adssettings.google.com/authenticated)\n",
    "\n",
    "[What ads have you looked at?](https://myactivity.google.com/myactivity)"
   ]
  },
  {
   "cell_type": "markdown",
   "metadata": {
    "slideshow": {
     "slide_type": "fragment"
    }
   },
   "source": [
    "The last two links include ways to opt out of Google ad tracking."
   ]
  },
  {
   "cell_type": "markdown",
   "metadata": {
    "slideshow": {
     "slide_type": "slide"
    }
   },
   "source": [
    "# Alternative Search\n",
    "\n",
    "Use a search engine that does not track your information, such as [duckduckgo.com](https://duckduckgo.com/)"
   ]
  },
  {
   "cell_type": "markdown",
   "metadata": {
    "slideshow": {
     "slide_type": "slide"
    }
   },
   "source": [
    "## Share Safely\n",
    "\n",
    "* **Never** send sensitive information by email.\n",
    "* Email is insecure and a copy of your message will remain indefinitely."
   ]
  },
  {
   "cell_type": "markdown",
   "metadata": {
    "slideshow": {
     "slide_type": "slide"
    }
   },
   "source": [
    "## Lock it Down!\n",
    "\n",
    "**Use a password manager such as LastPass or Dashlane!**"
   ]
  },
  {
   "cell_type": "markdown",
   "metadata": {
    "slideshow": {
     "slide_type": "fragment"
    }
   },
   "source": [
    "*there is no excuse*"
   ]
  },
  {
   "cell_type": "markdown",
   "metadata": {
    "slideshow": {
     "slide_type": "slide"
    }
   },
   "source": [
    "# Benefits\n",
    "\n",
    "* Each website has a unique password.\n",
    "* But you only have to remember one.\n",
    "* Easy to <abbr title=\"crypto-speak for change\">rotate</abbr> passwords.\n",
    "* Lastpass integrates well with two-factor authentication."
   ]
  },
  {
   "cell_type": "markdown",
   "metadata": {
    "slideshow": {
     "slide_type": "slide"
    }
   },
   "source": [
    "## Send Safely\n",
    "\n",
    "* There comes a time in which we have to share sensitive information.\n",
    "* It might be sending a copy of your social security card to HR.\n",
    "* Or family photos via email."
   ]
  },
  {
   "cell_type": "markdown",
   "metadata": {
    "slideshow": {
     "slide_type": "fragment"
    }
   },
   "source": [
    "* Some zip program, such as [7-zip](http://www.7-zip.org/), allow you to encryption your zip files with AES-256.\n",
    "* Just make sure not to send the password via email."
   ]
  },
  {
   "cell_type": "markdown",
   "metadata": {
    "slideshow": {
     "slide_type": "slide"
    }
   },
   "source": [
    "# Recap:\n",
    "1. Password manager\n",
    "2. Two-factor authentication\n",
    "3. Think about tracking\n",
    "4. Always use `https`, consider Firefox.\n",
    "5. If you must, send PII in an encrypted zip file."
   ]
  }
 ],
 "metadata": {
  "celltoolbar": "Slideshow",
  "kernelspec": {
   "display_name": "Python [default]",
   "language": "python",
   "name": "python3"
  },
  "language_info": {
   "codemirror_mode": {
    "name": "ipython",
    "version": 3
   },
   "file_extension": ".py",
   "mimetype": "text/x-python",
   "name": "python",
   "nbconvert_exporter": "python",
   "pygments_lexer": "ipython3",
   "version": "3.6.2"
  }
 },
 "nbformat": 4,
 "nbformat_minor": 2
}
